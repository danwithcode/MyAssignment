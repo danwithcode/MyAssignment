{
 "cells": [
  {
   "cell_type": "markdown",
   "id": "dbe71378-a1e1-49d3-9f30-0e8ed33c9b48",
   "metadata": {
    "tags": []
   },
   "source": [
    "# My Jupyter Notebook on IBM Watson Studio"
   ]
  },
  {
   "cell_type": "markdown",
   "id": "02c3792a-27e6-4cc8-8d8f-2087cb366dad",
   "metadata": {},
   "source": [
    " **Timothy Danielle C. Buitre**<br>\n",
    "Aspiring Data Scientist for a Tech Company"
   ]
  },
  {
   "cell_type": "markdown",
   "id": "54321489-45df-44d4-a46d-70998607c35c",
   "metadata": {},
   "source": [
    "*I am interested in data science because of its nature of work. I was inspired by my brother to learn programming and has been fascinated by it ever since I started.*"
   ]
  },
  {
   "cell_type": "markdown",
   "id": "c22991d8-f71e-4fca-b43c-7120d1ec27ae",
   "metadata": {
    "tags": []
   },
   "source": [
    "### The code below will concatenate three set of words to form a sentence."
   ]
  },
  {
   "cell_type": "code",
   "execution_count": 4,
   "id": "9361244d-a7f2-44a2-a3b7-b171fc344980",
   "metadata": {},
   "outputs": [
    {
     "name": "stdout",
     "output_type": "stream",
     "text": [
      "A dream will remain a dream if we don't pursue it!\n"
     ]
    }
   ],
   "source": [
    "x = \"A dream will \"\n",
    "y = \"remain a dream \"\n",
    "z = \"if we don't pursue it!\"\n",
    "a = x+y+z\n",
    "print (a)"
   ]
  },
  {
   "cell_type": "markdown",
   "id": "aea0d018-d400-46ef-8353-18fca8a14fa9",
   "metadata": {
    "tags": []
   },
   "source": [
    "Bulleted List\n",
    "* Apple\n",
    "* Mango\n",
    "* Banana\n",
    "\n",
    "Number List \n",
    "1. First tem\n",
    "2. Second Item\n",
    "3. Third Item\n",
    "\n",
    "Hyperlink <br>\n",
    "[Greatest Music of all Time!](https://www.youtube.com/watch?v=dQw4w9WgXcQ)"
   ]
  },
  {
   "cell_type": "code",
   "execution_count": null,
   "id": "1bc1ce94-be94-4be5-a51f-acd565d399b8",
   "metadata": {},
   "outputs": [],
   "source": []
  }
 ],
 "metadata": {
  "kernelspec": {
   "display_name": "Python",
   "language": "python",
   "name": "conda-env-python-py"
  },
  "language_info": {
   "codemirror_mode": {
    "name": "ipython",
    "version": 3
   },
   "file_extension": ".py",
   "mimetype": "text/x-python",
   "name": "python",
   "nbconvert_exporter": "python",
   "pygments_lexer": "ipython3",
   "version": "3.7.12"
  }
 },
 "nbformat": 4,
 "nbformat_minor": 5
}
